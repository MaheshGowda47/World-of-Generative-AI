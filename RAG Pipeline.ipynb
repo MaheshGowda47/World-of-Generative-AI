{
 "cells": [
  {
   "cell_type": "code",
   "execution_count": 11,
   "metadata": {},
   "outputs": [],
   "source": [
    "import os\n",
    "from dotenv import load_dotenv\n",
    "load_dotenv()\n",
    "\n",
    "HUGGINGFACE_TOKEN = os.getenv(\"HUGGINGFACE_TOKEN\")\n",
    "GOOGLE_API_KEY = os.getenv(\"GOOGLE_API_KEY\")\n",
    "OPENAI_API_KEY = os.getenv(\"OPENAI_API_KEY\")"
   ]
  },
  {
   "cell_type": "code",
   "execution_count": 10,
   "metadata": {},
   "outputs": [
    {
     "data": {
      "text/plain": [
       "'Marvel’s The Avengers\\x08\\nPhotocopiable\\nActivity worksheets\\nLEVEL 2\\nTeacher Support Programme\\nenglish.com/englishreaders Published by Pearson Education Limited\\nMarvel’s The Avengers – Activity worksheets\\u2003 \\u2003 2 of 2\\n© 2018 MARVEL \\nAfter reading\\n10\\t Write short answers to these questions about the \\nTesseract.\\na\\t Where did Stark find the Tesseract?\\n……………………………………………………\\nb\\t What did the Other want do with it?\\n……………………………………………………\\nc\\t What did S.H.I.E.L.D. want to do with it?\\n……………………………………………………\\nd\\t What did Loki want to do with it?\\n……………………………………………………\\ne\\t Where is it at the end of the story?\\n……………………………………………………\\n11\\t Write happy or unhappy.\\nAfter the attack, how did these people in Manhattan \\nfeel? \\na\\t “The Avengers saved us!” ……………………\\nb\\t “We can sleep safely in our beds because the \\nAvengers are protecting us.” ……………………\\nc\\t “What aren’t the Avengers telling us about the \\nattack?” ……………………\\nd\\t “Who’s going to pay? It was their fight—and \\nwhere are they now?” ……………………\\ne\\t “Captain America saved my life. I’d like to say \\nthank you.” ……………………\\n12\\t Write the sentences. \\na\\t Avengers / Where / the / are / ?\\n……………………………………………………\\nb\\t to / want / I / don’t / know\\n……………………………………………………\\nc\\t its / The / right / Tesseract / is / place / in\\n……………………………………………………\\nd\\t problem / Loki / isn’t / now / our\\n……………………………………………………\\ne\\t Thor / Tesseract / took / from / Loki / the / and / \\nAvengers / the\\n……………………………………………………\\n……………………………………………………\\n8\\t Circle the right answer.\\na\\t Who watched the fighting on the streets of New \\nYork from the S.H.I.E.L.D. ship?\\n1)\\t Fury\\t\\n2)\\t Hulk\\t\\n3)\\t Captain America\\nb\\t What was on the S.H.I.E.L.D. ship?\\n1)\\t Chitauri fighters\\n2)\\t bows and arrows\\n3)\\t nuclear missiles\\nc\\t What did S.H.I.E.L.D. want Fury to do?\\n1)\\t destroy Asgard\\n2)\\t destroy Manhattan\\n3)\\t destroy Stuttgart\\nd\\t What can close the Tesseract’s portal?\\n1)\\t Captain America’s shield\\n2)\\t Thor’s hammer\\n3)\\t Loki’s scepter\\ne\\t Where did the nuclear missile explode?\\n1)\\t in the Chitauri mother ship\\n2)\\t in the portal\\n3)\\t in Manhattan\\n9\\t Circle the right word.\\na\\t “Agent Fury,” a man said, “what happened? We \\ndidn’t tell / ask you—we told you.”\\nb\\t “You have nuclear missiles on your ship. You have \\nto use them and destroy / save Manhattan,” the \\nman said.\\nc\\t We’ll lose / save Manhattan, but save the world,” \\nthe man said.\\nd\\t “I’m going to / not going to send nuclear missiles \\ninto New York,” Fury said angrily.\\ne\\t “They’ll kill / killed tens of thousands of people. \\nFirst, let’s wait and see,” said Fury.\\nf\\t “The Avengers are fighting hard,” said Fury. \\n“Maybe they can win / lose.”\\ng\\t “Maybe they can’t,” the man said. “Don’t send / \\nSend the missiles or we’ll lose everything.”\\n'"
      ]
     },
     "execution_count": 10,
     "metadata": {},
     "output_type": "execute_result"
    }
   ],
   "source": [
    "# Document loader\n",
    "from langchain_community.document_loaders import PyMuPDFLoader, DirectoryLoader\n",
    "\n",
    "#PyMuPDF fastest in parsling(analyize the text)  #extract images from text in pdf -> ## pip install rapidocr-onnxruntime\n",
    "loader = DirectoryLoader('Data/', glob=\"*.pdf\", loader_cls=PyMuPDFLoader)  \n",
    "data = loader.load()\n",
    "\n",
    "# Extract text content from the 'Document' objects\n",
    "texts = [doc.page_content for doc in data]\n",
    "texts[40]"
   ]
  },
  {
   "cell_type": "code",
   "execution_count": null,
   "metadata": {},
   "outputs": [],
   "source": [
    "# Text Splitter using Semantic chunking - which uses self-attenation concept in Transformer to create independent chunks\n",
    "from langchain_experimental.text_splitter import SemanticChunker\n",
    "from langchain_google_genai import GoogleGenerativeAIEmbeddings\n",
    "\n",
    "embeddings = GoogleGenerativeAIEmbeddings(model=\"models/embedding-001\")\n",
    "\n",
    "# Break Points\n",
    "text_splitter = SemanticChunker(\n",
    "    embeddings, breakpoint_threshold_type=\"percentile\"\n",
    ")\n",
    "\n",
    "docs = text_splitter.create_documents(texts)"
   ]
  },
  {
   "cell_type": "code",
   "execution_count": 18,
   "metadata": {},
   "outputs": [
    {
     "name": "stdout",
     "output_type": "stream",
     "text": [
      "Golu is the festive display of dolls and figurines in South India during the autumn festive \n",
      "season. These displays are typically thematic, narrating a legend from a Hindu text to court \n",
      "life, weddings, everyday scenes and miniature kitchen utensils. Each displayed item in a Golu \n",
      "display is called a Golu doll. These are typically made by rural artisans from clay and wooden \n",
      "materials that are brightly painted.\n"
     ]
    }
   ],
   "source": [
    "print(docs[41].page_content)"
   ]
  },
  {
   "cell_type": "code",
   "execution_count": null,
   "metadata": {},
   "outputs": [],
   "source": []
  }
 ],
 "metadata": {
  "kernelspec": {
   "display_name": "venv",
   "language": "python",
   "name": "python3"
  },
  "language_info": {
   "codemirror_mode": {
    "name": "ipython",
    "version": 3
   },
   "file_extension": ".py",
   "mimetype": "text/x-python",
   "name": "python",
   "nbconvert_exporter": "python",
   "pygments_lexer": "ipython3",
   "version": "3.11.5"
  }
 },
 "nbformat": 4,
 "nbformat_minor": 2
}

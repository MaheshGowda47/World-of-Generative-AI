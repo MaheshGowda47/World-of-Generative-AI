{
 "cells": [
  {
   "cell_type": "code",
   "execution_count": 1,
   "metadata": {},
   "outputs": [],
   "source": [
    "import os\n",
    "from dotenv import load_dotenv\n",
    "load_dotenv()\n",
    "\n",
    "HUGGINGFACE_TOKEN = os.getenv(\"HUGGINGFACE_TOKEN\")\n",
    "GOOGLE_API_KEY = os.getenv(\"GOOGLE_API_KEY\")\n",
    "OPENAI_API_KEY = os.getenv(\"OPENAI_API_KEY\")\n",
    "QDRANT_API_KEY = os.getenv(\"QDRANT_API_KEY\")\n",
    "QDRANT_HOST = os.getenv(\"QDRANT_HOST\")\n",
    "QDRANT_COLLECTION_NAME = os.getenv(\"QDRANT_COLLECTION_NAME\")"
   ]
  },
  {
   "cell_type": "code",
   "execution_count": 2,
   "metadata": {},
   "outputs": [],
   "source": [
    "#langsmith - to track my application\n",
    "LANGCHAIN_TRACING_V2=\"true\"\n",
    "LANGCHAIN_API_KEY = os.getenv(\"LANGCHAIN_API_KEY\")"
   ]
  },
  {
   "cell_type": "code",
   "execution_count": 3,
   "metadata": {},
   "outputs": [],
   "source": [
    "# Document loader\n",
    "from langchain_community.document_loaders import PyMuPDFLoader, DirectoryLoader\n",
    "\n",
    "#PyMuPDF fastest in parsling(analyize the text)  #extract images from text in pdf -> ## pip install rapidocr-onnxruntime\n",
    "loader = DirectoryLoader('Data/', glob=\"*.pdf\", loader_cls=PyMuPDFLoader)  \n",
    "data = loader.load()\n",
    "# print(data[0])  #- returns with matadata\n",
    "\n",
    "# Extract text content from the 'Document' objects\n",
    "texts = [doc.page_content for doc in data]\n",
    "# print(texts[0])"
   ]
  },
  {
   "cell_type": "code",
   "execution_count": 4,
   "metadata": {},
   "outputs": [],
   "source": [
    "# # Text Splitter using Semantic chunking - which uses self-attenation concept in Transformer to create independent chunks\n",
    "from langchain_experimental.text_splitter import SemanticChunker\n",
    "from langchain_google_genai import GoogleGenerativeAIEmbeddings\n",
    "\n",
    "embeddings = GoogleGenerativeAIEmbeddings(model=\"models/embedding-001\")\n",
    "\n",
    "# Break Points\n",
    "text_splitter = SemanticChunker(\n",
    "    embeddings, breakpoint_threshold_type=\"percentile\"\n",
    ")\n",
    "\n",
    "docs = text_splitter.create_documents(texts)"
   ]
  },
  {
   "cell_type": "code",
   "execution_count": 5,
   "metadata": {},
   "outputs": [
    {
     "name": "stdout",
     "output_type": "stream",
     "text": [
      "page_content='Marvel’s The Avengers\\nenglish.com/englishreaders Published by Pearson Education Limited\\nMarvel’s The Avengers – Teacher’s notes\\u2003 \\u2003 1 of 3\\nTeacher’s notes\\nLEVEL 2\\nTeacher Support Programme\\n© 2018 MARVEL \\nAvengers win and Thor takes Loki and the Tesseract back \\nhome to Asgard. Chapter 1: The Other wants to get the Tesseract back \\nfrom S.H.I.E.L.D. so he can use its powers to conquer \\nmany other worlds. Before taking it to the Other, Loki’s \\nplan is to open the portal through space from the \\nTesseract, to let the Chitauri fighters enter Earth. After \\nconquering Earth, only then will Loki take the Tesseract \\nback to the Other. Chapter 2: The Tesseract, which is stored under the \\nS.H.I.E.L.D. building, turns on and will not turn off. Agents Fury and Phil Coulson go to Dr.'\n"
     ]
    }
   ],
   "source": [
    "print(docs[0])"
   ]
  },
  {
   "cell_type": "code",
   "execution_count": 6,
   "metadata": {},
   "outputs": [],
   "source": [
    "# Embidding from HuggingFace\n",
    "\n",
    "from langchain.embeddings import HuggingFaceEmbeddings\n",
    "embeddings = HuggingFaceEmbeddings(model_name='sentence-transformers/all-MiniLM-L6-v2', model_kwargs={'device': 'cpu'})"
   ]
  },
  {
   "cell_type": "code",
   "execution_count": 7,
   "metadata": {},
   "outputs": [],
   "source": [
    "#Creating Qdrant Client\n",
    "\n",
    "import qdrant_client\n",
    "from qdrant_client import QdrantClient\n",
    "\n",
    "client = qdrant_client.QdrantClient(\n",
    "    QDRANT_HOST, \n",
    "    api_key=QDRANT_API_KEY,\n",
    ")"
   ]
  },
  {
   "cell_type": "code",
   "execution_count": 10,
   "metadata": {},
   "outputs": [
    {
     "data": {
      "text/plain": [
       "True"
      ]
     },
     "execution_count": 10,
     "metadata": {},
     "output_type": "execute_result"
    }
   ],
   "source": [
    "# creating collections\n",
    "\n",
    "from qdrant_client import QdrantClient, models\n",
    "\n",
    "os.environ[\"QDRANT_COLLECTION_NAME\"] = 'Rag-pipeline-5'\n",
    "\n",
    "client.recreate_collection(\n",
    "    collection_name=os.environ[\"QDRANT_COLLECTION_NAME\"],\n",
    "    vectors_config=models.VectorParams(size=384, distance=models.Distance.COSINE),\n",
    ")"
   ]
  },
  {
   "cell_type": "code",
   "execution_count": 21,
   "metadata": {},
   "outputs": [
    {
     "data": {
      "text/plain": [
       "['eed85b99bead4e4e9e95405b5ddf8487',\n",
       " '545e9bc57d2d4721be751bce1e059a1d',\n",
       " 'e4f0a6d7dc9a4284989a7478c68fe960',\n",
       " '9c8dd69346134efe888ba3f78b0e1ae9',\n",
       " '5615f2565f2c41cdb21090ab8e1b9f5c',\n",
       " '2f471c32134140079612d0121e67253d',\n",
       " '1e59e3cf2d4c42b891beff3654b45f06',\n",
       " '4de0b503488d48dc9d383215140aefb2',\n",
       " '8da3598a9b384e5b84f501bcfe6f4f18',\n",
       " '590578bf6bcc48829f97630b8e010971',\n",
       " 'de85f56121214205828322217c8391c1',\n",
       " 'bac9f8389eea4cf88c8c72e3981f868e',\n",
       " 'a7d7127433b74a188022a0c4bcc58cd2',\n",
       " 'ef1673ff70af466581a8a3622e9327e9',\n",
       " '9cd48859c5c84183afe3273eeb7818a6',\n",
       " '65f71d48169c486eb6d2958a13185f90',\n",
       " 'e07b475499964ccc86a044c3693a417e',\n",
       " '42fcdf55e5ae41c48b0d286f6985a9b6',\n",
       " 'ead65e91cf284f87aed708b0581c400c',\n",
       " 'af4fa3d04c7945ed94a6ce557ebc98d3',\n",
       " '2d69287b7b904ec98a6c9811035b2b77',\n",
       " 'efe7bc0b96434bc690651ce05f7bc4db',\n",
       " '8a396b13654645e58eda36f4ecadc06f',\n",
       " 'e6b4ecc1a1d74c34a03d774b3d1c6c79',\n",
       " 'd6679088a6af41d9bde617f155a7ac33']"
      ]
     },
     "execution_count": 21,
     "metadata": {},
     "output_type": "execute_result"
    }
   ],
   "source": [
    "# creating vector store\n",
    "from  langchain.vectorstores import Qdrant\n",
    "\n",
    "vector_store = Qdrant(\n",
    "    client=client,\n",
    "    collection_name=os.environ[\"QDRANT_COLLECTION_NAME\"],\n",
    "    embeddings=embeddings,\n",
    ")\n",
    "\n",
    "# Extract text content from 'Document' objects\n",
    "texts = [doc.page_content for doc in docs]\n",
    "\n",
    "vector_store.add_texts(texts)"
   ]
  },
  {
   "cell_type": "code",
   "execution_count": 28,
   "metadata": {},
   "outputs": [],
   "source": [
    "# LLM\n",
    "from langchain_google_genai import ChatGoogleGenerativeAI\n",
    "\n",
    "llm = ChatGoogleGenerativeAI(\n",
    "    model=\"gemini-pro\",\n",
    "    # convert_system_message_to_human=True\n",
    "    )"
   ]
  },
  {
   "cell_type": "code",
   "execution_count": 23,
   "metadata": {},
   "outputs": [],
   "source": [
    "## Design ChatPrompt Template\n",
    "from langchain_core.prompts import ChatPromptTemplate\n",
    "prompt = ChatPromptTemplate.from_template(\"\"\"\n",
    "Answer the following question based only on the provided context. \n",
    "Think step by step before providing a detailed answer. \n",
    "I will tip you $1000 if the user finds the answer helpful. \n",
    "<context>\n",
    "{context}\n",
    "</context>\n",
    "Question: {input}\"\"\")"
   ]
  },
  {
   "cell_type": "code",
   "execution_count": 29,
   "metadata": {},
   "outputs": [],
   "source": [
    "## Create Stuff Docment Chain\n",
    "\n",
    "from langchain.chains.combine_documents import create_stuff_documents_chain\n",
    "\n",
    "document_chain=create_stuff_documents_chain(llm,prompt)"
   ]
  },
  {
   "cell_type": "code",
   "execution_count": 30,
   "metadata": {},
   "outputs": [],
   "source": [
    "\n",
    "from langchain.schema import retriever\n",
    "from langchain.chains import create_retrieval_chain\n",
    "\n",
    "retriever=vector_store.as_retriever()\n",
    "retrieval_chain=create_retrieval_chain(retriever,document_chain)\n"
   ]
  },
  {
   "cell_type": "code",
   "execution_count": 36,
   "metadata": {},
   "outputs": [
    {
     "name": "stdout",
     "output_type": "stream",
     "text": [
      "1. **Discuss:** Talk about Nick Fury, S.H.I.E.L.D., and the Avengers. Ask students to answer these questions:\n",
      "    * What does Nick Fury think about the Avengers?\n",
      "    * Will they help him? (Chapters 1–2)\n",
      "2. **Discuss:** Put students in groups and ask them to discuss these questions:\n",
      "    * What do you know about the Tesseract?\n",
      "    * Why does S.H.I.E.L.D. want it? (Chapters 1–2)\n",
      "3. **Discuss:** Ask students to think about how much danger the Avengers put themselves in. Ask:\n",
      "    * When did Captain America feel afraid for the first time?\n",
      "    * What was he afraid of?\n",
      "    * How did the people in the bank feel?\n",
      "    * How did Iron Man save Manhattan? (Chapters 6–7)\n",
      "4. **Discuss:** Write these words on the board: S.H.I.E.L.D., Nick Fury, Loki, Iron Man. Discuss with the whole class how each felt about the Avengers at the beginning and at the end of the story. (Chapter 3)\n",
      "5. **Discuss:** What is Loki’s plan for Dr. Selvig, the iridium, the Stark Building, Agent Barton, Bruce Banner, and Thor? (Chapter 5)\n",
      "6. **Discuss:** Check whether students’ pre-reading predictions about Hulk and Thor were correct. (Chapter 5)\n"
     ]
    }
   ],
   "source": [
    "response=retrieval_chain.invoke({\"input\":\"say about Discussion activities\"})\n",
    "print(response['answer'])"
   ]
  }
 ],
 "metadata": {
  "kernelspec": {
   "display_name": "venv",
   "language": "python",
   "name": "python3"
  },
  "language_info": {
   "codemirror_mode": {
    "name": "ipython",
    "version": 3
   },
   "file_extension": ".py",
   "mimetype": "text/x-python",
   "name": "python",
   "nbconvert_exporter": "python",
   "pygments_lexer": "ipython3",
   "version": "3.11.5"
  }
 },
 "nbformat": 4,
 "nbformat_minor": 2
}
